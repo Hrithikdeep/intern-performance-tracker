{
 "cells": [
  {
   "cell_type": "markdown",
   "id": "463d99fa-4000-4357-a915-5e6177481717",
   "metadata": {},
   "source": [
    "#  Intern Performance Tracker (HR Analytics Project)\n",
    "\n",
    "**Objective:**  \n",
    "Analyze intern feedback, workload, and satisfaction metrics to detect burnout and predict attrition risk using real HR-style data.\n",
    "\n",
    "**Tools Used:**  \n",
    "pandas, TextBlob (sentiment analysis), matplotlib, Streamlit\n",
    "\n",
    "**Dataset:** Based on IBM HR Analytics Employee Attrition Dataset, adapted for intern simulation.\n",
    "\"\"\""
   ]
  },
  {
   "cell_type": "markdown",
   "id": "2095ee28-ff3a-47bc-a3d1-2db1e0a7259e",
   "metadata": {},
   "source": [
    "**load dataset**"
   ]
  },
  {
   "cell_type": "code",
   "execution_count": 12,
   "id": "c0c95181-7655-4ea2-abb9-67b122c579e2",
   "metadata": {},
   "outputs": [
    {
     "data": {
      "text/html": [
       "<div>\n",
       "<style scoped>\n",
       "    .dataframe tbody tr th:only-of-type {\n",
       "        vertical-align: middle;\n",
       "    }\n",
       "\n",
       "    .dataframe tbody tr th {\n",
       "        vertical-align: top;\n",
       "    }\n",
       "\n",
       "    .dataframe thead th {\n",
       "        text-align: right;\n",
       "    }\n",
       "</style>\n",
       "<table border=\"1\" class=\"dataframe\">\n",
       "  <thead>\n",
       "    <tr style=\"text-align: right;\">\n",
       "      <th></th>\n",
       "      <th>Age</th>\n",
       "      <th>Attrition</th>\n",
       "      <th>BusinessTravel</th>\n",
       "      <th>DailyRate</th>\n",
       "      <th>Department</th>\n",
       "      <th>DistanceFromHome</th>\n",
       "      <th>Education</th>\n",
       "      <th>EducationField</th>\n",
       "      <th>EmployeeCount</th>\n",
       "      <th>EmployeeNumber</th>\n",
       "      <th>...</th>\n",
       "      <th>RelationshipSatisfaction</th>\n",
       "      <th>StandardHours</th>\n",
       "      <th>StockOptionLevel</th>\n",
       "      <th>TotalWorkingYears</th>\n",
       "      <th>TrainingTimesLastYear</th>\n",
       "      <th>WorkLifeBalance</th>\n",
       "      <th>YearsAtCompany</th>\n",
       "      <th>YearsInCurrentRole</th>\n",
       "      <th>YearsSinceLastPromotion</th>\n",
       "      <th>YearsWithCurrManager</th>\n",
       "    </tr>\n",
       "  </thead>\n",
       "  <tbody>\n",
       "    <tr>\n",
       "      <th>0</th>\n",
       "      <td>41</td>\n",
       "      <td>Yes</td>\n",
       "      <td>Travel_Rarely</td>\n",
       "      <td>1102</td>\n",
       "      <td>Sales</td>\n",
       "      <td>1</td>\n",
       "      <td>2</td>\n",
       "      <td>Life Sciences</td>\n",
       "      <td>1</td>\n",
       "      <td>1</td>\n",
       "      <td>...</td>\n",
       "      <td>1</td>\n",
       "      <td>80</td>\n",
       "      <td>0</td>\n",
       "      <td>8</td>\n",
       "      <td>0</td>\n",
       "      <td>1</td>\n",
       "      <td>6</td>\n",
       "      <td>4</td>\n",
       "      <td>0</td>\n",
       "      <td>5</td>\n",
       "    </tr>\n",
       "    <tr>\n",
       "      <th>1</th>\n",
       "      <td>49</td>\n",
       "      <td>No</td>\n",
       "      <td>Travel_Frequently</td>\n",
       "      <td>279</td>\n",
       "      <td>Research &amp; Development</td>\n",
       "      <td>8</td>\n",
       "      <td>1</td>\n",
       "      <td>Life Sciences</td>\n",
       "      <td>1</td>\n",
       "      <td>2</td>\n",
       "      <td>...</td>\n",
       "      <td>4</td>\n",
       "      <td>80</td>\n",
       "      <td>1</td>\n",
       "      <td>10</td>\n",
       "      <td>3</td>\n",
       "      <td>3</td>\n",
       "      <td>10</td>\n",
       "      <td>7</td>\n",
       "      <td>1</td>\n",
       "      <td>7</td>\n",
       "    </tr>\n",
       "    <tr>\n",
       "      <th>2</th>\n",
       "      <td>37</td>\n",
       "      <td>Yes</td>\n",
       "      <td>Travel_Rarely</td>\n",
       "      <td>1373</td>\n",
       "      <td>Research &amp; Development</td>\n",
       "      <td>2</td>\n",
       "      <td>2</td>\n",
       "      <td>Other</td>\n",
       "      <td>1</td>\n",
       "      <td>4</td>\n",
       "      <td>...</td>\n",
       "      <td>2</td>\n",
       "      <td>80</td>\n",
       "      <td>0</td>\n",
       "      <td>7</td>\n",
       "      <td>3</td>\n",
       "      <td>3</td>\n",
       "      <td>0</td>\n",
       "      <td>0</td>\n",
       "      <td>0</td>\n",
       "      <td>0</td>\n",
       "    </tr>\n",
       "    <tr>\n",
       "      <th>3</th>\n",
       "      <td>33</td>\n",
       "      <td>No</td>\n",
       "      <td>Travel_Frequently</td>\n",
       "      <td>1392</td>\n",
       "      <td>Research &amp; Development</td>\n",
       "      <td>3</td>\n",
       "      <td>4</td>\n",
       "      <td>Life Sciences</td>\n",
       "      <td>1</td>\n",
       "      <td>5</td>\n",
       "      <td>...</td>\n",
       "      <td>3</td>\n",
       "      <td>80</td>\n",
       "      <td>0</td>\n",
       "      <td>8</td>\n",
       "      <td>3</td>\n",
       "      <td>3</td>\n",
       "      <td>8</td>\n",
       "      <td>7</td>\n",
       "      <td>3</td>\n",
       "      <td>0</td>\n",
       "    </tr>\n",
       "    <tr>\n",
       "      <th>4</th>\n",
       "      <td>27</td>\n",
       "      <td>No</td>\n",
       "      <td>Travel_Rarely</td>\n",
       "      <td>591</td>\n",
       "      <td>Research &amp; Development</td>\n",
       "      <td>2</td>\n",
       "      <td>1</td>\n",
       "      <td>Medical</td>\n",
       "      <td>1</td>\n",
       "      <td>7</td>\n",
       "      <td>...</td>\n",
       "      <td>4</td>\n",
       "      <td>80</td>\n",
       "      <td>1</td>\n",
       "      <td>6</td>\n",
       "      <td>3</td>\n",
       "      <td>3</td>\n",
       "      <td>2</td>\n",
       "      <td>2</td>\n",
       "      <td>2</td>\n",
       "      <td>2</td>\n",
       "    </tr>\n",
       "  </tbody>\n",
       "</table>\n",
       "<p>5 rows × 35 columns</p>\n",
       "</div>"
      ],
      "text/plain": [
       "   Age Attrition     BusinessTravel  DailyRate              Department  \\\n",
       "0   41       Yes      Travel_Rarely       1102                   Sales   \n",
       "1   49        No  Travel_Frequently        279  Research & Development   \n",
       "2   37       Yes      Travel_Rarely       1373  Research & Development   \n",
       "3   33        No  Travel_Frequently       1392  Research & Development   \n",
       "4   27        No      Travel_Rarely        591  Research & Development   \n",
       "\n",
       "   DistanceFromHome  Education EducationField  EmployeeCount  EmployeeNumber  \\\n",
       "0                 1          2  Life Sciences              1               1   \n",
       "1                 8          1  Life Sciences              1               2   \n",
       "2                 2          2          Other              1               4   \n",
       "3                 3          4  Life Sciences              1               5   \n",
       "4                 2          1        Medical              1               7   \n",
       "\n",
       "   ...  RelationshipSatisfaction StandardHours  StockOptionLevel  \\\n",
       "0  ...                         1            80                 0   \n",
       "1  ...                         4            80                 1   \n",
       "2  ...                         2            80                 0   \n",
       "3  ...                         3            80                 0   \n",
       "4  ...                         4            80                 1   \n",
       "\n",
       "   TotalWorkingYears  TrainingTimesLastYear WorkLifeBalance  YearsAtCompany  \\\n",
       "0                  8                      0               1               6   \n",
       "1                 10                      3               3              10   \n",
       "2                  7                      3               3               0   \n",
       "3                  8                      3               3               8   \n",
       "4                  6                      3               3               2   \n",
       "\n",
       "  YearsInCurrentRole  YearsSinceLastPromotion  YearsWithCurrManager  \n",
       "0                  4                        0                     5  \n",
       "1                  7                        1                     7  \n",
       "2                  0                        0                     0  \n",
       "3                  7                        3                     0  \n",
       "4                  2                        2                     2  \n",
       "\n",
       "[5 rows x 35 columns]"
      ]
     },
     "execution_count": 12,
     "metadata": {},
     "output_type": "execute_result"
    }
   ],
   "source": [
    "import pandas as pd \n",
    "df=pd.read_csv(\"WA_Fn-UseC_-HR-Employee-Attrition.csv\")\n",
    "df.head(5)"
   ]
  },
  {
   "cell_type": "markdown",
   "id": "43443362-f69e-4797-88e8-583216552a6c",
   "metadata": {},
   "source": [
    "# Step 1: Filter \"Interns\"\n",
    "We treat interns as:\n",
    "\n",
    "Young employees (Age ≤ 25)\n",
    "\n",
    "OR recently joined (YearsAtCompany ≤ 1)"
   ]
  },
  {
   "cell_type": "code",
   "execution_count": 15,
   "id": "d800a3c5-cfef-4db9-9198-118ce73282a8",
   "metadata": {},
   "outputs": [
    {
     "data": {
      "text/plain": [
       "(293, 35)"
      ]
     },
     "execution_count": 15,
     "metadata": {},
     "output_type": "execute_result"
    }
   ],
   "source": [
    "df_interns = df[(df['Age'] <= 25) | (df['YearsAtCompany'] <= 1)].copy()\n",
    "df_interns.reset_index(drop=True, inplace=True)\n",
    "df_interns.shape\n"
   ]
  },
  {
   "cell_type": "markdown",
   "id": "0c5f4e09-3bb0-4338-9018-2c5eb5a7ad9b",
   "metadata": {},
   "source": [
    "# step 2: Add Simulated Feedback Column\n",
    "Because IBM dataset has no text, we create it for sentiment analysis."
   ]
  },
  {
   "cell_type": "code",
   "execution_count": 26,
   "id": "20b74381-6181-46eb-8eca-9d5d265deca1",
   "metadata": {},
   "outputs": [],
   "source": [
    "sample_feedback = [\n",
    "    \"Loving the work and learning fast.\",\n",
    "    \"Feeling overworked and exhausted.\",\n",
    "    \"Workload is balanced and the team is helpful.\",\n",
    "    \"Deadlines are too tight, very stressful.\",\n",
    "    \"Great experience, excited for new tasks.\"\n",
    "]\n",
    "\n",
    "# Repeat and match exactly to intern data length\n",
    "feedback_repeated = (sample_feedback * ((len(df_interns) // len(sample_feedback)) + 1))[:len(df_interns)]\n",
    "df_interns['Feedback'] = feedback_repeated\n"
   ]
  },
  {
   "cell_type": "code",
   "execution_count": 28,
   "id": "cdd38a8e-21a7-4807-89a4-4ff0e8a275c0",
   "metadata": {},
   "outputs": [
    {
     "data": {
      "text/plain": [
       "True"
      ]
     },
     "execution_count": 28,
     "metadata": {},
     "output_type": "execute_result"
    }
   ],
   "source": [
    "'Feedback' in df_interns.columns\n"
   ]
  },
  {
   "cell_type": "code",
   "execution_count": 30,
   "id": "f1e60870-b7b7-4b02-b6e7-215eee66d64e",
   "metadata": {},
   "outputs": [
    {
     "data": {
      "text/html": [
       "<div>\n",
       "<style scoped>\n",
       "    .dataframe tbody tr th:only-of-type {\n",
       "        vertical-align: middle;\n",
       "    }\n",
       "\n",
       "    .dataframe tbody tr th {\n",
       "        vertical-align: top;\n",
       "    }\n",
       "\n",
       "    .dataframe thead th {\n",
       "        text-align: right;\n",
       "    }\n",
       "</style>\n",
       "<table border=\"1\" class=\"dataframe\">\n",
       "  <thead>\n",
       "    <tr style=\"text-align: right;\">\n",
       "      <th></th>\n",
       "      <th>Age</th>\n",
       "      <th>Attrition</th>\n",
       "      <th>BusinessTravel</th>\n",
       "      <th>DailyRate</th>\n",
       "      <th>Department</th>\n",
       "      <th>DistanceFromHome</th>\n",
       "      <th>Education</th>\n",
       "      <th>EducationField</th>\n",
       "      <th>EmployeeCount</th>\n",
       "      <th>EmployeeNumber</th>\n",
       "      <th>...</th>\n",
       "      <th>StandardHours</th>\n",
       "      <th>StockOptionLevel</th>\n",
       "      <th>TotalWorkingYears</th>\n",
       "      <th>TrainingTimesLastYear</th>\n",
       "      <th>WorkLifeBalance</th>\n",
       "      <th>YearsAtCompany</th>\n",
       "      <th>YearsInCurrentRole</th>\n",
       "      <th>YearsSinceLastPromotion</th>\n",
       "      <th>YearsWithCurrManager</th>\n",
       "      <th>Feedback</th>\n",
       "    </tr>\n",
       "  </thead>\n",
       "  <tbody>\n",
       "    <tr>\n",
       "      <th>290</th>\n",
       "      <td>25</td>\n",
       "      <td>No</td>\n",
       "      <td>Travel_Rarely</td>\n",
       "      <td>1382</td>\n",
       "      <td>Sales</td>\n",
       "      <td>8</td>\n",
       "      <td>2</td>\n",
       "      <td>Other</td>\n",
       "      <td>1</td>\n",
       "      <td>2018</td>\n",
       "      <td>...</td>\n",
       "      <td>80</td>\n",
       "      <td>1</td>\n",
       "      <td>6</td>\n",
       "      <td>3</td>\n",
       "      <td>2</td>\n",
       "      <td>5</td>\n",
       "      <td>3</td>\n",
       "      <td>0</td>\n",
       "      <td>4</td>\n",
       "      <td>Loving the work and learning fast.</td>\n",
       "    </tr>\n",
       "    <tr>\n",
       "      <th>291</th>\n",
       "      <td>21</td>\n",
       "      <td>No</td>\n",
       "      <td>Travel_Rarely</td>\n",
       "      <td>501</td>\n",
       "      <td>Sales</td>\n",
       "      <td>5</td>\n",
       "      <td>1</td>\n",
       "      <td>Medical</td>\n",
       "      <td>1</td>\n",
       "      <td>2021</td>\n",
       "      <td>...</td>\n",
       "      <td>80</td>\n",
       "      <td>0</td>\n",
       "      <td>2</td>\n",
       "      <td>6</td>\n",
       "      <td>3</td>\n",
       "      <td>2</td>\n",
       "      <td>2</td>\n",
       "      <td>1</td>\n",
       "      <td>2</td>\n",
       "      <td>Feeling overworked and exhausted.</td>\n",
       "    </tr>\n",
       "    <tr>\n",
       "      <th>292</th>\n",
       "      <td>23</td>\n",
       "      <td>Yes</td>\n",
       "      <td>Travel_Frequently</td>\n",
       "      <td>638</td>\n",
       "      <td>Sales</td>\n",
       "      <td>9</td>\n",
       "      <td>3</td>\n",
       "      <td>Marketing</td>\n",
       "      <td>1</td>\n",
       "      <td>2023</td>\n",
       "      <td>...</td>\n",
       "      <td>80</td>\n",
       "      <td>1</td>\n",
       "      <td>1</td>\n",
       "      <td>3</td>\n",
       "      <td>2</td>\n",
       "      <td>1</td>\n",
       "      <td>0</td>\n",
       "      <td>1</td>\n",
       "      <td>0</td>\n",
       "      <td>Workload is balanced and the team is helpful.</td>\n",
       "    </tr>\n",
       "  </tbody>\n",
       "</table>\n",
       "<p>3 rows × 36 columns</p>\n",
       "</div>"
      ],
      "text/plain": [
       "     Age Attrition     BusinessTravel  DailyRate Department  DistanceFromHome  \\\n",
       "290   25        No      Travel_Rarely       1382      Sales                 8   \n",
       "291   21        No      Travel_Rarely        501      Sales                 5   \n",
       "292   23       Yes  Travel_Frequently        638      Sales                 9   \n",
       "\n",
       "     Education EducationField  EmployeeCount  EmployeeNumber  ...  \\\n",
       "290          2          Other              1            2018  ...   \n",
       "291          1        Medical              1            2021  ...   \n",
       "292          3      Marketing              1            2023  ...   \n",
       "\n",
       "     StandardHours StockOptionLevel  TotalWorkingYears  TrainingTimesLastYear  \\\n",
       "290             80                1                  6                      3   \n",
       "291             80                0                  2                      6   \n",
       "292             80                1                  1                      3   \n",
       "\n",
       "     WorkLifeBalance YearsAtCompany  YearsInCurrentRole  \\\n",
       "290                2              5                   3   \n",
       "291                3              2                   2   \n",
       "292                2              1                   0   \n",
       "\n",
       "    YearsSinceLastPromotion  YearsWithCurrManager  \\\n",
       "290                       0                     4   \n",
       "291                       1                     2   \n",
       "292                       1                     0   \n",
       "\n",
       "                                          Feedback  \n",
       "290             Loving the work and learning fast.  \n",
       "291              Feeling overworked and exhausted.  \n",
       "292  Workload is balanced and the team is helpful.  \n",
       "\n",
       "[3 rows x 36 columns]"
      ]
     },
     "execution_count": 30,
     "metadata": {},
     "output_type": "execute_result"
    }
   ],
   "source": [
    "df_interns.tail(3)\n"
   ]
  },
  {
   "cell_type": "code",
   "execution_count": 32,
   "id": "31021a27-7b53-4adf-97b3-3d23e7360c1d",
   "metadata": {},
   "outputs": [
    {
     "data": {
      "text/html": [
       "<div>\n",
       "<style scoped>\n",
       "    .dataframe tbody tr th:only-of-type {\n",
       "        vertical-align: middle;\n",
       "    }\n",
       "\n",
       "    .dataframe tbody tr th {\n",
       "        vertical-align: top;\n",
       "    }\n",
       "\n",
       "    .dataframe thead th {\n",
       "        text-align: right;\n",
       "    }\n",
       "</style>\n",
       "<table border=\"1\" class=\"dataframe\">\n",
       "  <thead>\n",
       "    <tr style=\"text-align: right;\">\n",
       "      <th></th>\n",
       "      <th>EmployeeNumber</th>\n",
       "      <th>Feedback</th>\n",
       "    </tr>\n",
       "  </thead>\n",
       "  <tbody>\n",
       "    <tr>\n",
       "      <th>0</th>\n",
       "      <td>4</td>\n",
       "      <td>Loving the work and learning fast.</td>\n",
       "    </tr>\n",
       "    <tr>\n",
       "      <th>1</th>\n",
       "      <td>10</td>\n",
       "      <td>Feeling overworked and exhausted.</td>\n",
       "    </tr>\n",
       "    <tr>\n",
       "      <th>2</th>\n",
       "      <td>11</td>\n",
       "      <td>Workload is balanced and the team is helpful.</td>\n",
       "    </tr>\n",
       "    <tr>\n",
       "      <th>3</th>\n",
       "      <td>22</td>\n",
       "      <td>Deadlines are too tight, very stressful.</td>\n",
       "    </tr>\n",
       "    <tr>\n",
       "      <th>4</th>\n",
       "      <td>26</td>\n",
       "      <td>Great experience, excited for new tasks.</td>\n",
       "    </tr>\n",
       "    <tr>\n",
       "      <th>5</th>\n",
       "      <td>30</td>\n",
       "      <td>Loving the work and learning fast.</td>\n",
       "    </tr>\n",
       "    <tr>\n",
       "      <th>6</th>\n",
       "      <td>39</td>\n",
       "      <td>Feeling overworked and exhausted.</td>\n",
       "    </tr>\n",
       "    <tr>\n",
       "      <th>7</th>\n",
       "      <td>42</td>\n",
       "      <td>Workload is balanced and the team is helpful.</td>\n",
       "    </tr>\n",
       "    <tr>\n",
       "      <th>8</th>\n",
       "      <td>45</td>\n",
       "      <td>Deadlines are too tight, very stressful.</td>\n",
       "    </tr>\n",
       "    <tr>\n",
       "      <th>9</th>\n",
       "      <td>51</td>\n",
       "      <td>Great experience, excited for new tasks.</td>\n",
       "    </tr>\n",
       "  </tbody>\n",
       "</table>\n",
       "</div>"
      ],
      "text/plain": [
       "   EmployeeNumber                                       Feedback\n",
       "0               4             Loving the work and learning fast.\n",
       "1              10              Feeling overworked and exhausted.\n",
       "2              11  Workload is balanced and the team is helpful.\n",
       "3              22       Deadlines are too tight, very stressful.\n",
       "4              26       Great experience, excited for new tasks.\n",
       "5              30             Loving the work and learning fast.\n",
       "6              39              Feeling overworked and exhausted.\n",
       "7              42  Workload is balanced and the team is helpful.\n",
       "8              45       Deadlines are too tight, very stressful.\n",
       "9              51       Great experience, excited for new tasks."
      ]
     },
     "execution_count": 32,
     "metadata": {},
     "output_type": "execute_result"
    }
   ],
   "source": [
    "df_interns[['EmployeeNumber', 'Feedback']].head(10)\n"
   ]
  },
  {
   "cell_type": "markdown",
   "id": "5d20ab02-d06f-4394-b173-d297675a4e5c",
   "metadata": {},
   "source": [
    "# Step 3: Sentiment Analysis\n",
    "We’ll use TextBlob to get sentiment polarity."
   ]
  },
  {
   "cell_type": "code",
   "execution_count": 41,
   "id": "894aaf98-2722-44c3-a009-c294fdb2031a",
   "metadata": {},
   "outputs": [],
   "source": [
    "from textblob import TextBlob\n",
    "\n",
    "def get_sentiment(text):\n",
    "    return TextBlob(text).sentiment.polarity\n",
    "\n",
    "df_interns['Sentiment'] = df_interns['Feedback'].apply(get_sentiment)\n"
   ]
  },
  {
   "cell_type": "code",
   "execution_count": null,
   "id": "171301c9-5ec9-4f42-9583-4355a72fc9a9",
   "metadata": {},
   "outputs": [],
   "source": [
    "Step 4: Burnout Detection Logic\n",
    "We define burnout as:\n",
    "\n",
    "Negative sentiment (< 0)\n",
    "\n",
    "AND OverTime is Yes"
   ]
  },
  {
   "cell_type": "code",
   "execution_count": 45,
   "id": "1fe9a74f-78b6-429e-9d13-0c7ce541139b",
   "metadata": {},
   "outputs": [],
   "source": [
    "df_interns['Burnout'] = df_interns.apply(\n",
    "    lambda x: 1 if x['Sentiment'] < 0 and x['OverTime'] == 'Yes' else 0,\n",
    "    axis=1\n",
    ")\n"
   ]
  },
  {
   "cell_type": "markdown",
   "id": "87012061-ba7c-48ae-b837-401e9de5ae55",
   "metadata": {},
   "source": [
    "# Step 5: Attrition Risk Logic\n",
    "Create a simple rule:\n",
    "\n",
    "Low job satisfaction (≤ 2)\n",
    "\n",
    "Burnout == 1 → high attrition risk"
   ]
  },
  {
   "cell_type": "code",
   "execution_count": 47,
   "id": "2cd1a883-7880-43be-868e-6faf83b35e14",
   "metadata": {},
   "outputs": [],
   "source": [
    "df_interns['AttritionRisk'] = df_interns.apply(\n",
    "    lambda x: 1 if x['JobSatisfaction'] <= 2 and x['Burnout'] == 1 else 0,\n",
    "    axis=1\n",
    ")\n"
   ]
  },
  {
   "cell_type": "markdown",
   "id": "6d1fa2c3-905c-44ef-8014-55993f81b4a7",
   "metadata": {},
   "source": [
    "# Step 6: Visual Analysis"
   ]
  },
  {
   "cell_type": "code",
   "execution_count": 52,
   "id": "57dbe885-e5c9-474f-9bea-48a33d3d71f3",
   "metadata": {},
   "outputs": [
    {
     "data": {
      "image/png": "[encoded data removed]",
      "text/plain": [
       "<Figure size 640x480 with 1 Axes>"
      ]
     },
     "metadata": {},
     "output_type": "display_data"
    },
    {
     "data": {
      "image/png": "[encoded data removed]",
      "text/plain": [
       "<Figure size 640x480 with 1 Axes>"
      ]
     },
     "metadata": {},
     "output_type": "display_data"
    },
    {
     "data": {
      "image/png": "[encoded data removed]",
      "text/plain": [
       "<Figure size 640x480 with 1 Axes>"
      ]
     },
     "metadata": {},
     "output_type": "display_data"
    }
   ],
   "source": [
    "import matplotlib.pyplot as plt\n",
    "\n",
    "df_interns['Sentiment'].plot(kind='bar', title='Intern Sentiment')\n",
    "plt.show()\n",
    "\n",
    "df_interns['Burnout'].value_counts().plot(kind='bar', title='Burnout Count')\n",
    "plt.show()\n",
    "\n",
    "df_interns['AttritionRisk'].value_counts().plot(kind='bar', title='Attrition Risk')\n",
    "plt.show()\n"
   ]
  },
  {
   "cell_type": "markdown",
   "id": "59f445af-aa12-47d8-8585-779f8cc9a874",
   "metadata": {},
   "source": [
    "# Step 7: Dashboard with Streamlit"
   ]
  },
  {
   "cell_type": "code",
   "execution_count": 1,
   "id": "42db86a0-d72d-4f6f-8ee5-99ee1adffa6c",
   "metadata": {},
   "outputs": [
    {
     "data": {
      "text/plain": [
       "'/Users/hrithik'"
      ]
     },
     "execution_count": 1,
     "metadata": {},
     "output_type": "execute_result"
    }
   ],
   "source": [
    "import os\n",
    "os.getcwd()\n"
   ]
  },
  {
   "cell_type": "code",
   "execution_count": null,
   "id": "ba4a80e6-040d-4fd1-bb7b-f99c89294780",
   "metadata": {},
   "outputs": [],
   "source": []
  }
 ],
 "metadata": {
  "kernelspec": {
   "display_name": "Python [conda env:base] *",
   "language": "python",
   "name": "conda-base-py"
  },
  "language_info": {
   "codemirror_mode": {
    "name": "ipython",
    "version": 3
   },
   "file_extension": ".py",
   "mimetype": "text/x-python",
   "name": "python",
   "nbconvert_exporter": "python",
   "pygments_lexer": "ipython3",
   "version": "3.12.7"
  }
 },
 "nbformat": 4,
 "nbformat_minor": 5
}
